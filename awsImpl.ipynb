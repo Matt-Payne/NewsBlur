{
  "nbformat": 4,
  "nbformat_minor": 0,
  "metadata": {
    "colab": {
      "name": "awsImpl.ipynb",
      "provenance": [],
      "collapsed_sections": [],
      "machine_shape": "hm"
    },
    "kernelspec": {
      "name": "python3",
      "display_name": "Python 3"
    },
    "language_info": {
      "name": "python"
    },
    "accelerator": "GPU"
  },
  "cells": [
    {
      "cell_type": "code",
      "metadata": {
        "id": "cXySwLM9nyFi",
        "colab": {
          "base_uri": "https://localhost:8080/"
        },
        "outputId": "ea27c402-2ee4-444f-b464-adf322a32edb"
      },
      "source": [
        "import pandas as pd\n",
        "import tensorflow as tf\n",
        "from pandas import DataFrame\n",
        "import numpy as np\n",
        "import math\n",
        "import heapq\n",
        "from tqdm import tqdm\n",
        "import random\n",
        "print(\"Num GPUs Available: \", len(tf.config.list_physical_devices('GPU')))\n",
        "#!pip install --upgrade tensorflow\n",
        "#!pip install --upgrade pandas\n",
        "#!pip install --upgrade numpy"
      ],
      "execution_count": 27,
      "outputs": [
        {
          "output_type": "stream",
          "text": [
            "Num GPUs Available:  1\n"
          ],
          "name": "stdout"
        }
      ]
    },
    {
      "cell_type": "code",
      "metadata": {
        "id": "fwmjdACMpmHs"
      },
      "source": [
        "df = pd.read_csv('users-feeds.csv')\n",
        "\n",
        "def shrink_users_df(df,user_id):\n",
        "    userIds = np.random.choice(df[user_id].unique(),\n",
        "                                    size=int(len(df[user_id].unique())*0.10),\n",
        "                                    replace=False)\n",
        "    return df.loc[df[user_id].isin(userIds)]\n",
        "def add_negative_samples(df, item_tag, user_tag,label_tag):\n",
        "\n",
        "    updated_df = pd.DataFrame(columns=[user_tag,item_tag,label_tag])\n",
        "    all_feeds = df[item_tag].unique()\n",
        "    users, items, labels = [], [], []\n",
        "\n",
        "    user_item_set = set(zip(df[user_tag], df[item_tag]))\n",
        "    num_negatives = 2\n",
        "\n",
        "    for (u, i) in user_item_set:\n",
        "        users.append(u)\n",
        "        items.append(i)\n",
        "        labels.append(1) # items that the user has interacted with are positive\n",
        "        for _ in range(num_negatives):\n",
        "            # randomly select an item\n",
        "            negative_item = np.random.choice(all_feeds)\n",
        "            # check that the user has not interacted with this item\n",
        "            while (u, negative_item) in user_item_set:\n",
        "                negative_item = np.random.choice(all_feeds)\n",
        "            users.append(u)\n",
        "            items.append(negative_item)\n",
        "            labels.append(0) # items not interacted with are negative\n",
        "    updated_df[user_tag] = users\n",
        "    updated_df[item_tag] = items\n",
        "    updated_df[label_tag] = labels\n",
        "    del df\n",
        "    return updated_df\n",
        "\n",
        "def mask_first(x):\n",
        "    \"\"\"\n",
        "    Return a list of 0 for the first item and 1 for all others\n",
        "    \"\"\"\n",
        "    result = np.ones_like(x)\n",
        "    result[0] = 0\n",
        "\n",
        "    return result\n",
        "\n",
        "# needs to add validate in the future\n",
        "def train_test_split(full_df):\n",
        "    df_test = df.copy(deep=True)\n",
        "    df_test = df_test.groupby(['user']).first()\n",
        "\n",
        "    df_test['user'] = df_test.index\n",
        "    df_test = df_test[['user', 'feed_id','is_following_feed']]\n",
        "    df_test = df_test.rename_axis(None, axis=1)\n",
        "\n",
        "    df_train = df.copy(deep=True)\n",
        "    mask = df.groupby(['user'])['user'].transform(mask_first).astype(bool)\n",
        "\n",
        "    df_train = df.loc[mask]\n",
        "    return df_train, df_test\n"
      ],
      "execution_count": 28,
      "outputs": []
    },
    {
      "cell_type": "code",
      "metadata": {
        "id": "rPGfCcFb3nfq",
        "colab": {
          "base_uri": "https://localhost:8080/"
        },
        "outputId": "f776206c-d458-4ea7-a689-f095ec7e4ead"
      },
      "source": [
        "df = shrink_users_df(df, 'user')\n",
        "\n",
        "\n",
        "df.loc[:, 'is_following_feed'] = 1\n",
        "\n",
        "df = add_negative_samples(df,'feed_id','user','is_following_feed')\n",
        "\n",
        "print(df.sample(10))\n",
        "\n",
        "df_train, df_test = train_test_split(df)\n"
      ],
      "execution_count": 29,
      "outputs": [
        {
          "output_type": "stream",
          "text": [
            "           user  feed_id  is_following_feed\n",
            "1125867   18145     1754                  1\n",
            "3924527     747  2988973                  0\n",
            "3797266   45212  6656174                  0\n",
            "718425   192108  3631556                  1\n",
            "3544823    2562  7728650                  0\n",
            "1879120   91278  3251087                  0\n",
            "244217    12323  5977891                  0\n",
            "3424530  182926   453441                  1\n",
            "1063721  159008  6160481                  0\n",
            "3733494  335385  6679019                  1\n"
          ],
          "name": "stdout"
        }
      ]
    },
    {
      "cell_type": "code",
      "metadata": {
        "id": "i86WjZYuqtGU"
      },
      "source": [
        "def _get_user_embedding_layers(inputs, emb_dim):  \n",
        "    \"\"\" create user embeddings \"\"\"  \n",
        "    user_gmf_emb = tf.keras.layers.Dense(emb_dim, activation='relu')(inputs)  \n",
        "    user_mlp_emb = tf.keras.layers.Dense(emb_dim, activation='relu')(inputs)  \n",
        "    return user_gmf_emb, user_mlp_emb  \n",
        "  \n",
        "def _get_item_embedding_layers(inputs, emb_dim):  \n",
        "    \"\"\" create item embeddings \"\"\"  \n",
        "    item_gmf_emb = tf.keras.layers.Dense(emb_dim, activation='relu')(inputs)  \n",
        "    item_mlp_emb = tf.keras.layers.Dense(emb_dim, activation='relu')(inputs)  \n",
        "    return item_gmf_emb, item_mlp_emb  "
      ],
      "execution_count": 30,
      "outputs": []
    },
    {
      "cell_type": "code",
      "metadata": {
        "id": "MScat3cvqt7l"
      },
      "source": [
        "def _gmf(user_emb, item_emb):  \n",
        "    \"\"\" general matrix factorization branch \"\"\"  \n",
        "    gmf_mat = tf.keras.layers.Multiply()([user_emb, item_emb])  \n",
        "    return gmf_mat  "
      ],
      "execution_count": 31,
      "outputs": []
    },
    {
      "cell_type": "code",
      "metadata": {
        "id": "QcQL9UPSqx5W"
      },
      "source": [
        "def _mlp(user_emb, item_emb, dropout_rate):  \n",
        "    \"\"\" multi-layer perceptron branch \"\"\"  \n",
        "    def add_layer(dim, input_layer, dropout_rate):  \n",
        "        hidden_layer = tf.keras.layers.Dense(dim, activation='relu')(input_layer)  \n",
        "        if dropout_rate:  \n",
        "            dropout_layer = tf.keras.layers.Dropout(dropout_rate)(hidden_layer)  \n",
        "            return dropout_layer  \n",
        "        return hidden_layer  \n",
        "  \n",
        "    concat_layer = tf.keras.layers.Concatenate()([user_emb, item_emb])  \n",
        "    dropout_l1 = tf.keras.layers.Dropout(dropout_rate)(concat_layer)  \n",
        "    dense_layer_1 = add_layer(64, dropout_l1, dropout_rate)  \n",
        "    dense_layer_2 = add_layer(32, dense_layer_1, dropout_rate)  \n",
        "    dense_layer_3 = add_layer(16, dense_layer_2, None)  \n",
        "    dense_layer_4 = add_layer(8, dense_layer_3, None)  \n",
        "    return dense_layer_4  "
      ],
      "execution_count": 32,
      "outputs": []
    },
    {
      "cell_type": "code",
      "metadata": {
        "id": "TL-iL3Jzq033"
      },
      "source": [
        "def _neuCF(gmf, mlp, dropout_rate):  \n",
        "    \"\"\" final output layer \"\"\"  \n",
        "    concat_layer = tf.keras.layers.Concatenate()([gmf, mlp])  \n",
        "    output_layer = tf.keras.layers.Dense(1, activation='sigmoid')(concat_layer)  \n",
        "    return output_layer  "
      ],
      "execution_count": 33,
      "outputs": []
    },
    {
      "cell_type": "code",
      "metadata": {
        "id": "57qZeTOAQtEf"
      },
      "source": [
        "def batch_generator(x, y, batch_size, n_batch, shuffle, user_dim, item_dim):\n",
        "    \"\"\" batch generator to supply data for training and testing \"\"\"\n",
        "\n",
        "    user_df, item_df = x\n",
        "\n",
        "    counter = 0\n",
        "    training_index = np.arange(user_df.shape[0])\n",
        "\n",
        "    if shuffle:\n",
        "        np.random.shuffle(training_index)\n",
        "\n",
        "    while True:\n",
        "        batch_index = training_index[batch_size*counter:batch_size*(counter+1)]\n",
        "        user_batch = tf.one_hot(user_df[batch_index], depth=user_dim)\n",
        "        item_batch = tf.one_hot(item_df[batch_index], depth=item_dim)\n",
        "        y_batch = y[batch_index]\n",
        "        counter += 1\n",
        "        yield [user_batch, item_batch], y_batch\n",
        "\n",
        "        if counter == n_batch:\n",
        "            if shuffle:\n",
        "                np.random.shuffle(training_index)\n",
        "            counter = 0"
      ],
      "execution_count": 34,
      "outputs": []
    },
    {
      "cell_type": "code",
      "metadata": {
        "id": "xODFg7Leq4SM"
      },
      "source": [
        "def build_graph(user_dim, item_dim, dropout_rate=0.25):\n",
        "    \"\"\" neural collaborative filtering model \"\"\"\n",
        "\n",
        "    user_input = tf.keras.Input(shape=(user_dim))\n",
        "    item_input = tf.keras.Input(shape=(item_dim))\n",
        "\n",
        "    # create embedding layers\n",
        "    user_gmf_emb, user_mlp_emb = _get_user_embedding_layers(user_input, 32)\n",
        "    item_gmf_emb, item_mlp_emb = _get_item_embedding_layers(item_input, 32)\n",
        "\n",
        "    # general matrix factorization\n",
        "    gmf = _gmf(user_gmf_emb, item_gmf_emb)\n",
        "\n",
        "    # multi layer perceptron\n",
        "    mlp = _mlp(user_mlp_emb, item_mlp_emb, dropout_rate)\n",
        "\n",
        "    # output\n",
        "    output = _neuCF(gmf, mlp, dropout_rate)\n",
        "\n",
        "    # create the model\n",
        "    model = tf.keras.Model(inputs=[user_input, item_input], outputs=output)\n",
        "\n",
        "    return model"
      ],
      "execution_count": 35,
      "outputs": []
    },
    {
      "cell_type": "code",
      "metadata": {
        "id": "WmE8QK5wtUFs"
      },
      "source": [
        "def eval_hit_rate(test_df, full_df, model):\n",
        "  test_user_item_set = set(zip(test_df['user'], test_df['feed_id']))\n",
        "\n",
        "  user_interacted_items = full_df.groupby('user')['feed_id'].apply(list).to_dict()\n",
        "\n",
        "  hits = []\n",
        "  for (u,i) in test_user_item_set:\n",
        "    interacted_items = user_interacted_items[u]\n",
        "    not_interacted_items = set(full_df['feed_id'].unique()) - set(interacted_items)\n",
        "    selected_not_interacted = list(np.random.choice(list(not_interacted_items), 99))\n",
        "    test_items = selected_not_interacted + [i]\n",
        "    predicted_labels = np.squeeze(model(torch.tensor([u]*100), \n",
        "                                        torch.tensor(test_items)).detach().numpy())\n",
        "    \n",
        "    top10_items = [test_items[i] for i in np.argsort(predicted_labels)[::-1][0:5].tolist()]\n",
        "\n",
        "    if i in top10_items:\n",
        "        hits.append(1)\n",
        "    else:\n",
        "        hits.append(0)\n",
        "        \n",
        "print(\"The Hit Ratio @ 10 is {:.2f}\".format(np.average(hits)))\n",
        "\n"
      ],
      "execution_count": null,
      "outputs": []
    },
    {
      "cell_type": "code",
      "metadata": {
        "id": "GxM2THqpPZIl"
      },
      "source": [
        "def model(x_train, y_train, n_user, n_item, num_epoch, batch_size):\n",
        "\n",
        "    num_batch = np.ceil(x_train[0].shape[0]/batch_size)\n",
        "\n",
        "    # build graph\n",
        "    model = build_graph(n_user, n_item)\n",
        "\n",
        "    # compile and train\n",
        "    optimizer = tf.keras.optimizers.Adam(learning_rate=.002)\n",
        "\n",
        "    model.compile(optimizer=optimizer,\n",
        "                  loss=tf.keras.losses.BinaryCrossentropy(),\n",
        "                  metrics=['accuracy']\n",
        "                  )\n",
        "\n",
        "    model.fit_generator(\n",
        "        generator=batch_generator(\n",
        "            x=x_train, y=y_train,\n",
        "            batch_size=batch_size, n_batch=num_batch,\n",
        "            shuffle=True, user_dim=n_user, item_dim=n_item),\n",
        "        epochs=num_epoch,\n",
        "        steps_per_epoch=num_batch,\n",
        "        verbose=2\n",
        "    )\n",
        "\n",
        "    return model"
      ],
      "execution_count": 36,
      "outputs": []
    },
    {
      "cell_type": "code",
      "metadata": {
        "id": "wr7P8_jG2avq",
        "colab": {
          "base_uri": "https://localhost:8080/"
        },
        "outputId": "cf972d1a-6bef-413b-d39a-c911bc1c1a09"
      },
      "source": [
        "df['user'].to_numpy()"
      ],
      "execution_count": 37,
      "outputs": [
        {
          "output_type": "execute_result",
          "data": {
            "text/plain": [
              "array([289879, 289879, 289879, ..., 201877, 201877, 201877])"
            ]
          },
          "metadata": {
            "tags": []
          },
          "execution_count": 37
        }
      ]
    },
    {
      "cell_type": "code",
      "metadata": {
        "id": "Bif2aRmSq-R3",
        "colab": {
          "base_uri": "https://localhost:8080/"
        },
        "outputId": "35eadd93-bb2a-4781-d110-8afc38457554"
      },
      "source": [
        "\n",
        "\n",
        "ncf_model = model(\n",
        "        x_train=[df_train['user'].to_numpy(), df_train['feed_id'].to_numpy()],\n",
        "        y_train=df_train['is_following_feed'].to_numpy(),\n",
        "        n_user=df_train['user'].nunique(),\n",
        "        n_item=df_train['feed_id'].nunique(),\n",
        "        num_epoch=5,\n",
        "        batch_size=512\n",
        "    )"
      ],
      "execution_count": null,
      "outputs": [
        {
          "output_type": "stream",
          "text": [
            "/usr/local/lib/python3.7/dist-packages/tensorflow/python/keras/engine/training.py:1844: UserWarning: `Model.fit_generator` is deprecated and will be removed in a future version. Please use `Model.fit`, which supports generators.\n",
            "  warnings.warn('`Model.fit_generator` is deprecated and '\n"
          ],
          "name": "stderr"
        },
        {
          "output_type": "stream",
          "text": [
            "Epoch 1/5\n",
            "8306/8306 - 7012s - loss: 0.5619\n",
            "Epoch 2/5\n"
          ],
          "name": "stdout"
        }
      ]
    }
  ]
}